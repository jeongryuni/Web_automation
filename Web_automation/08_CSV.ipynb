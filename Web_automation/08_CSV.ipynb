{
 "cells": [
  {
   "cell_type": "markdown",
   "source": [
    "## 파이썬으로 CSV 파일 작성하기"
   ],
   "metadata": {
    "collapsed": false
   },
   "id": "b928f7c3bbb4f575"
  },
  {
   "cell_type": "markdown",
   "source": [
    "CSV 모듈 임포트"
   ],
   "metadata": {
    "collapsed": false
   },
   "id": "c086205a3b7f76d5"
  },
  {
   "cell_type": "code",
   "outputs": [],
   "source": [
    "import csv"
   ],
   "metadata": {
    "collapsed": true,
    "ExecuteTime": {
     "end_time": "2024-08-01T09:32:31.785983Z",
     "start_time": "2024-08-01T09:32:31.781634Z"
    }
   },
   "id": "initial_id",
   "execution_count": 1
  },
  {
   "cell_type": "markdown",
   "source": [
    "CSV 파일 생성"
   ],
   "metadata": {
    "collapsed": false
   },
   "id": "47ce9762bcc5fd2f"
  },
  {
   "cell_type": "code",
   "outputs": [],
   "source": [
    "# CSV 파일 생성\n",
    "csv_file = open('file_name.csv', 'w')\n",
    "csv_writer = csv.writer(csv_file)"
   ],
   "metadata": {
    "collapsed": false
   },
   "id": "78f968fd0472f3a5"
  },
  {
   "cell_type": "markdown",
   "source": [
    "행 추가"
   ],
   "metadata": {
    "collapsed": false
   },
   "id": "5cf38c2f7bbb311b"
  },
  {
   "cell_type": "code",
   "outputs": [],
   "source": [
    "# CSV 파일에 행 추가\n",
    "csv_writer.writerow([data1, data2, ...])"
   ],
   "metadata": {
    "collapsed": false
   },
   "id": "7c20979190a6ac72"
  },
  {
   "cell_type": "markdown",
   "source": [
    "CSV 파일 닫기\n"
   ],
   "metadata": {
    "collapsed": false
   },
   "id": "f5b4c1749beb6a14"
  },
  {
   "cell_type": "code",
   "outputs": [],
   "source": [
    "# CSV 파일 닫기\n",
    "csv_file.close()"
   ],
   "metadata": {
    "collapsed": false
   },
   "id": "9b7267265bc0ad09"
  }
 ],
 "metadata": {
  "kernelspec": {
   "display_name": "Python 3",
   "language": "python",
   "name": "python3"
  },
  "language_info": {
   "codemirror_mode": {
    "name": "ipython",
    "version": 2
   },
   "file_extension": ".py",
   "mimetype": "text/x-python",
   "name": "python",
   "nbconvert_exporter": "python",
   "pygments_lexer": "ipython2",
   "version": "2.7.6"
  }
 },
 "nbformat": 4,
 "nbformat_minor": 5
}
