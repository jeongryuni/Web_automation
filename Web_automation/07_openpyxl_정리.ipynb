{
 "cells": [
  {
   "cell_type": "markdown",
   "source": [
    "## 라이브러리 임포트"
   ],
   "metadata": {
    "collapsed": false
   },
   "id": "7dfa4f64328735a2"
  },
  {
   "cell_type": "code",
   "outputs": [],
   "source": [
    "from openpyxl import Workbook"
   ],
   "metadata": {
    "collapsed": false,
    "ExecuteTime": {
     "end_time": "2024-08-01T09:29:22.297885Z",
     "start_time": "2024-08-01T09:29:22.014882Z"
    }
   },
   "id": "dc676125da3c7022",
   "execution_count": 1
  },
  {
   "cell_type": "markdown",
   "source": [
    "## 워크북 생성"
   ],
   "metadata": {
    "collapsed": false
   },
   "id": "4fc55ff476228a9e"
  },
  {
   "cell_type": "code",
   "outputs": [],
   "source": [
    "wb = Workbook()\n",
    "wb = Workbook(write_only=True)"
   ],
   "metadata": {
    "collapsed": true
   },
   "id": "initial_id",
   "execution_count": 0
  },
  {
   "cell_type": "markdown",
   "source": [
    "## 워크시트 생성"
   ],
   "metadata": {
    "collapsed": false
   },
   "id": "6a35f38aac962b0"
  },
  {
   "cell_type": "code",
   "outputs": [],
   "source": [
    "ws = wb.create_sheet()\n",
    "ws = wb.create_sheet('워크시트_이름')"
   ],
   "metadata": {
    "collapsed": false
   },
   "id": "16daa47617ec4f7b"
  },
  {
   "cell_type": "markdown",
   "source": [
    "## 행 추가"
   ],
   "metadata": {
    "collapsed": false
   },
   "id": "c3cdbffe2a2ce7fe"
  },
  {
   "cell_type": "code",
   "outputs": [],
   "source": [
    "ws.append([data1, data2, data3])"
   ],
   "metadata": {
    "collapsed": false
   },
   "id": "9473b6a0da2b9382"
  },
  {
   "cell_type": "markdown",
   "source": [
    "## 워크북 저장"
   ],
   "metadata": {
    "collapsed": false
   },
   "id": "8e10be3002786794"
  },
  {
   "cell_type": "code",
   "outputs": [],
   "source": [
    "wb.save('워크북_이름.xlsx')"
   ],
   "metadata": {
    "collapsed": false
   },
   "id": "68d3c1d41e4ff9ef"
  }
 ],
 "metadata": {
  "kernelspec": {
   "display_name": "Python 3",
   "language": "python",
   "name": "python3"
  },
  "language_info": {
   "codemirror_mode": {
    "name": "ipython",
    "version": 2
   },
   "file_extension": ".py",
   "mimetype": "text/x-python",
   "name": "python",
   "nbconvert_exporter": "python",
   "pygments_lexer": "ipython2",
   "version": "2.7.6"
  }
 },
 "nbformat": 4,
 "nbformat_minor": 5
}
