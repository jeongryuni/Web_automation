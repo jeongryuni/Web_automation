{
 "cells": [
  {
   "cell_type": "markdown",
   "source": [
    "## Beautiful Soup 라이브러리\n",
    "Beautiful Soup은 HTML 코드에서 필요한 정보를 추출해 주는 라이브러리입니다. Beautiful Soup을 이용하면 HTML 문서에서 필요한 태그를 쉽게 찾을 수 있고, 태그 안에 있는 다양한 정보도 쉽게 가져올 수 있습니다."
   ],
   "metadata": {
    "collapsed": false
   },
   "id": "cdf10e5d9ee402fa"
  },
  {
   "cell_type": "markdown",
   "source": [
    "## Beautiful Soup 임포트"
   ],
   "metadata": {
    "collapsed": false
   },
   "id": "e972fa06a388b2e7"
  },
  {
   "cell_type": "code",
   "outputs": [],
   "source": [
    "import requests\n",
    "from bs4 import BeautifulSoup"
   ],
   "metadata": {
    "collapsed": true,
    "ExecuteTime": {
     "end_time": "2024-08-01T09:12:10.903115Z",
     "start_time": "2024-08-01T09:12:10.831244Z"
    }
   },
   "id": "initial_id",
   "execution_count": 1
  },
  {
   "cell_type": "markdown",
   "source": [
    "## BeautifulSoup 만들기"
   ],
   "metadata": {
    "collapsed": false
   },
   "id": "ee32ef5ea5703c06"
  },
  {
   "cell_type": "code",
   "outputs": [],
   "source": [
    "# URL에 요청 보내기\n",
    "response = requests.get(URL) \n",
    "\n",
    "# 받아온 HTML 코드로 BeautifulSoup 만들기\n",
    "soup = BeautifulSoup(response.text, 'html.parser')"
   ],
   "metadata": {
    "collapsed": false
   },
   "id": "1fead2fc03549185",
   "execution_count": null
  },
  {
   "cell_type": "markdown",
   "source": [
    "## 필요한 태그 가져오기\n",
    ".select()와 .select_one() 메소드는 선택자를 통해 필요한 태그를 가져옵니다."
   ],
   "metadata": {
    "collapsed": false
   },
   "id": "885385a3f3826454"
  },
  {
   "cell_type": "code",
   "outputs": [],
   "source": [
    "# select\n",
    "# .select()는 선택자에 매칭되는 모든 태그를 리스트 형식으로 리턴해 줍니다. 매칭되는 태그가 없거나, \n",
    "# 하나뿐이어도 리스트를 리턴합니다.\n",
    "soup.select(selector)\n",
    "# 리턴값: [tag1, tag2, ...]\n",
    "\n",
    "# select_one\n",
    "# select_one()은 선택자에 매칭되는 태그 중 HTML 문서에서 가장 먼저 나타나는 태그를 리턴해 줍니다. \n",
    "# .select()와 달리 태그 자체를 리턴해 줍니다 (매칭되는 태그가 없는 경우 None을 리턴합니다).\n",
    "soup.select_one(selector)\n",
    "# 리턴값: tag or None"
   ],
   "metadata": {
    "collapsed": false
   },
   "id": "a5a01d7465d53a38"
  },
  {
   "cell_type": "markdown",
   "source": [
    "태그에서 필요한 정보 가져오기\n",
    "## 텍스트 가져오기\n",
    "태그의 텍스트를 가져오는 방법은 여러 가지가 있습니다."
   ],
   "metadata": {
    "collapsed": false
   },
   "id": "a1fbd8a8d653c1d0"
  },
  {
   "cell_type": "code",
   "outputs": [],
   "source": [
    "tag.get_text()\n",
    "list(tag.strings)\n",
    "list(tag.stripped_strings)"
   ],
   "metadata": {
    "collapsed": false
   },
   "id": "e9823dbda2c8ae12"
  },
  {
   "cell_type": "markdown",
   "source": [
    "## 속성 가져오기"
   ],
   "metadata": {
    "collapsed": false
   },
   "id": "ba9b859af8ab0107"
  },
  {
   "cell_type": "code",
   "outputs": [],
   "source": [
    "tag['attr']"
   ],
   "metadata": {
    "collapsed": false
   },
   "id": "f4d05860cbf19913"
  }
 ],
 "metadata": {
  "kernelspec": {
   "display_name": "Python 3",
   "language": "python",
   "name": "python3"
  },
  "language_info": {
   "codemirror_mode": {
    "name": "ipython",
    "version": 2
   },
   "file_extension": ".py",
   "mimetype": "text/x-python",
   "name": "python",
   "nbconvert_exporter": "python",
   "pygments_lexer": "ipython2",
   "version": "2.7.6"
  }
 },
 "nbformat": 4,
 "nbformat_minor": 5
}
